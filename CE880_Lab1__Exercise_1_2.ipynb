{
  "nbformat": 4,
  "nbformat_minor": 5,
  "metadata": {
    "kernelspec": {
      "display_name": "Python 3",
      "language": "python",
      "name": "python3"
    },
    "language_info": {
      "codemirror_mode": {
        "name": "ipython",
        "version": 3
      },
      "file_extension": ".py",
      "mimetype": "text/x-python",
      "name": "python",
      "nbconvert_exporter": "python",
      "pygments_lexer": "ipython3",
      "version": "3.7.10"
    },
    "colab": {
      "provenance": [],
      "include_colab_link": true
    }
  },
  "cells": [
    {
      "cell_type": "markdown",
      "metadata": {
        "id": "view-in-github",
        "colab_type": "text"
      },
      "source": [
        "<a href=\"https://colab.research.google.com/github/arenamichela/-CE880_Lab_Work/blob/main/CE880_Lab1__Exercise_1_2.ipynb\" target=\"_parent\"><img src=\"https://colab.research.google.com/assets/colab-badge.svg\" alt=\"Open In Colab\"/></a>"
      ]
    },
    {
      "cell_type": "markdown",
      "metadata": {
        "id": "5ff1c9a6"
      },
      "source": [
        "# CE880: An Approachable Introduction to Data Science\n",
        "### Prepared by: Haider Raza (h.raza@essex.ac.uk)\n",
        "\n",
        "***\n",
        "## Learning Outcome Day 2\n",
        "\n",
        "* Python Syntax \n",
        "* Variables and tips on variable names \n",
        "* Data Types \n",
        "* Data Structures\n",
        "* Strings \n",
        "* Logic/Booleans\n",
        "* Operators\n",
        "* If/Else, While, For, Functions \n",
        "* OOP: Classes and inheritance\n",
        "\n",
        "***"
      ],
      "id": "5ff1c9a6"
    },
    {
      "cell_type": "markdown",
      "metadata": {
        "id": "409c13c1"
      },
      "source": [
        "## Python Syntax\n",
        "\n",
        "The Python language has many similarities to `Perl`, `C`, and `Java`. However, there are some definite differences between the languages.\n",
        "\n",
        "Python statement ends with the token NEWLINE character (carriage return). It means each line in a Python script is a statement. The following Python script contains three statements in three separate lines.\n",
        "\n",
        "```python\n",
        "print('id: ', 1)\n",
        "print('First Name: ', 'Steve')\n",
        "print('Last Name: ', 'Jobs')\n",
        "```\n",
        "Use backslash character / to join a statement span over multiple lines, as shown below."
      ],
      "id": "409c13c1"
    },
    {
      "cell_type": "code",
      "metadata": {
        "id": "63805eab",
        "outputId": "531b4e24-89e6-4a4b-f059-bd3ca0b014c3",
        "colab": {
          "base_uri": "https://localhost:8080/"
        }
      },
      "source": [
        "if 100 > 99 and \\\n",
        "    200 <= 300 and \\\n",
        "    True != False:\n",
        "        print('Hello World!')"
      ],
      "id": "63805eab",
      "execution_count": 1,
      "outputs": [
        {
          "output_type": "stream",
          "name": "stdout",
          "text": [
            "Hello World!\n"
          ]
        }
      ]
    },
    {
      "cell_type": "markdown",
      "metadata": {
        "id": "2f0d8da3"
      },
      "source": [
        "### Variables\n",
        "\n",
        "A name that is used to denote something or a value is called a variable. In python, variables can be declared and values can be assigned to it as follows:"
      ],
      "id": "2f0d8da3"
    },
    {
      "cell_type": "code",
      "metadata": {
        "id": "5de9b42c",
        "outputId": "a0f5d910-ba03-4e23-d224-14b14c3f0b2c",
        "colab": {
          "base_uri": "https://localhost:8080/"
        }
      },
      "source": [
        "x = 2\n",
        "y = 5\n",
        "xy = 'Hello'\n",
        "\n",
        "print(x+y, xy)"
      ],
      "id": "5de9b42c",
      "execution_count": 2,
      "outputs": [
        {
          "output_type": "stream",
          "name": "stdout",
          "text": [
            "7 Hello\n"
          ]
        }
      ]
    },
    {
      "cell_type": "code",
      "metadata": {
        "id": "3cfb1a08",
        "outputId": "9a59a2a4-ae89-49be-feaa-65553c9e16c0",
        "colab": {
          "base_uri": "https://localhost:8080/"
        }
      },
      "source": [
        "# Multiple variables can be assigned with the same value\n",
        "\n",
        "x = y = 1\n",
        "print(x,y)"
      ],
      "id": "3cfb1a08",
      "execution_count": 3,
      "outputs": [
        {
          "output_type": "stream",
          "name": "stdout",
          "text": [
            "1 1\n"
          ]
        }
      ]
    },
    {
      "cell_type": "markdown",
      "metadata": {
        "id": "35dc3ba4"
      },
      "source": [
        "### Operators\n",
        "\n",
        "#### Arithmetic Operators\n",
        "\n",
        "| Symbol | Task Performed |\n",
        "|----|---|\n",
        "| +  | Addition |\n",
        "| -  | Subtraction |\n",
        "| /  | division |\n",
        "| %  | mod |\n",
        "| *  | multiplication |\n",
        "| //  | floor division |\n",
        "| **  | to the power of |"
      ],
      "id": "35dc3ba4"
    },
    {
      "cell_type": "code",
      "metadata": {
        "id": "9c67bf09",
        "outputId": "fbb15d37-d73e-4fa3-9423-0f5990e1ace2",
        "colab": {
          "base_uri": "https://localhost:8080/"
        }
      },
      "source": [
        "# Addition\n",
        "a = 1 + 3\n",
        "print(a)\n",
        "\n",
        "# Substraction\n",
        "b = 10 - 4\n",
        "print(b)\n",
        "\n",
        "# Multiplication\n",
        "c = a * b\n",
        "print(c)\n",
        "\n",
        "# Division\n",
        "d = c/2\n",
        "print(d)\n",
        "\n",
        "# Modulo\n",
        "\n",
        "e = 15%10\n",
        "print(e)\n",
        "\n",
        "#Floor division is nothing but converting the result so obtained to the nearest integer.\n",
        "f = 2.8//2.0\n",
        "print(f)"
      ],
      "id": "9c67bf09",
      "execution_count": 4,
      "outputs": [
        {
          "output_type": "stream",
          "name": "stdout",
          "text": [
            "4\n",
            "6\n",
            "24\n",
            "12.0\n",
            "5\n",
            "1.0\n"
          ]
        }
      ]
    },
    {
      "cell_type": "markdown",
      "metadata": {
        "id": "631dcfd9"
      },
      "source": [
        "## Relational Operators\n",
        "| Symbol | Task Performed |\n",
        "|----|---|\n",
        "| == | True, if it is equal |\n",
        "| !=  | True, if not equal to |\n",
        "| < | less than |\n",
        "| > | greater than |\n",
        "| <=  | less than or equal to |\n",
        "| >=  | greater than or equal to |"
      ],
      "id": "631dcfd9"
    },
    {
      "cell_type": "code",
      "metadata": {
        "id": "76f3a152",
        "colab": {
          "base_uri": "https://localhost:8080/"
        },
        "outputId": "96d8463c-f2f2-4088-b2d0-6d2d667fbca1"
      },
      "source": [
        "# Try few operators in this cell\n",
        "g= 10\n",
        "c= 50\n",
        "if c > g:\n",
        "      print('Yes!')"
      ],
      "id": "76f3a152",
      "execution_count": 10,
      "outputs": [
        {
          "output_type": "stream",
          "name": "stdout",
          "text": [
            "Yes!\n"
          ]
        }
      ]
    },
    {
      "cell_type": "code",
      "source": [
        "if g < c:\n",
        "     print(\"Yes.\")"
      ],
      "metadata": {
        "colab": {
          "base_uri": "https://localhost:8080/"
        },
        "id": "w_ifo7m3qbLj",
        "outputId": "f1d63a93-56d1-488e-9cbb-6637a49a64c5"
      },
      "id": "w_ifo7m3qbLj",
      "execution_count": 11,
      "outputs": [
        {
          "output_type": "stream",
          "name": "stdout",
          "text": [
            "Yes.\n"
          ]
        }
      ]
    },
    {
      "cell_type": "markdown",
      "metadata": {
        "id": "4cb6943e"
      },
      "source": [
        "## Print\n",
        "\n",
        "In Python, single, double and triple quotes are used to denote a string. Most use single quotes when declaring a single character. Double quotes when declaring a line and triple quotes when declaring a paragraph/multiple lines."
      ],
      "id": "4cb6943e"
    },
    {
      "cell_type": "code",
      "metadata": {
        "id": "b0fbc52b",
        "outputId": "f994e7d8-1f89-4ab4-ee4d-3b8dbfdc6a88",
        "colab": {
          "base_uri": "https://localhost:8080/"
        }
      },
      "source": [
        "print('H')\n",
        "print(\"Hello World\")\n",
        "print(\"\"\"I am from Essex.\n",
        "I love Python.\"\"\")"
      ],
      "id": "b0fbc52b",
      "execution_count": 12,
      "outputs": [
        {
          "output_type": "stream",
          "name": "stdout",
          "text": [
            "H\n",
            "Hello World\n",
            "I am from Essex.\n",
            "I love Python.\n"
          ]
        }
      ]
    },
    {
      "cell_type": "code",
      "metadata": {
        "id": "9aa40c0d",
        "outputId": "fda37cc8-1887-484d-b921-c5c99532ef9d",
        "colab": {
          "base_uri": "https://localhost:8080/"
        }
      },
      "source": [
        "string1 = \"World\"\n",
        "print(\"Hello\", string1)\n",
        "\n",
        "string2 = '!'\n",
        "print(\"Hello\", string1, string2)"
      ],
      "id": "9aa40c0d",
      "execution_count": 13,
      "outputs": [
        {
          "output_type": "stream",
          "name": "stdout",
          "text": [
            "Hello World\n",
            "Hello World !\n"
          ]
        }
      ]
    },
    {
      "cell_type": "code",
      "metadata": {
        "id": "7ad94768",
        "outputId": "159d2c65-c5ca-44ac-d0c8-5116f6ccd5d6",
        "colab": {
          "base_uri": "https://localhost:8080/"
        }
      },
      "source": [
        "print(\"Hello %s\" % string1)"
      ],
      "id": "7ad94768",
      "execution_count": 14,
      "outputs": [
        {
          "output_type": "stream",
          "name": "stdout",
          "text": [
            "Hello World\n"
          ]
        }
      ]
    },
    {
      "cell_type": "code",
      "metadata": {
        "id": "b6f05bed",
        "outputId": "c4eb3940-e9e3-4982-d37f-24091bfbbc7c",
        "colab": {
          "base_uri": "https://localhost:8080/"
        }
      },
      "source": [
        "print(\"Actual Number = %d\" %18)\n",
        "print(\"Float of the number = %f\" %18)"
      ],
      "id": "b6f05bed",
      "execution_count": 15,
      "outputs": [
        {
          "output_type": "stream",
          "name": "stdout",
          "text": [
            "Actual Number = 18\n",
            "Float of the number = 18.000000\n"
          ]
        }
      ]
    },
    {
      "cell_type": "code",
      "metadata": {
        "id": "d4c829e6",
        "outputId": "53496765-4aee-4610-bcbc-3a939fe4d73d",
        "colab": {
          "base_uri": "https://localhost:8080/"
        }
      },
      "source": [
        "print(\"Hello %s %s\" %(string1,string2))"
      ],
      "id": "d4c829e6",
      "execution_count": 16,
      "outputs": [
        {
          "output_type": "stream",
          "name": "stdout",
          "text": [
            "Hello World !\n"
          ]
        }
      ]
    },
    {
      "cell_type": "markdown",
      "metadata": {
        "id": "50d5cf96"
      },
      "source": [
        "## Python: Data Types\n",
        "\n",
        "In programming, data type is an important concept. `Variables` can store data of different types, and different types can do different things. Python has the following data types built-in by default, in these categories:\n",
        "\n",
        "\n",
        "|   Type          |  Syntax   | \n",
        "|-----------------|---------- |\n",
        "| Text Type:      | \t`str`     | \n",
        "| Numeric Types:  |  `int`, `float`, `complex`         |\n",
        "| Sequence Types: |  `list`, `tuple`, `range`         |\n",
        "| Mapping Type:   |  `dict`         |\n",
        "| Set Types:      |  `set`, `frozenset`         |\n",
        "| Boolean Type:   |  `bool`         |\n",
        "|  Binary Types:  |  `bytes`, `bytearray`, `memoryview`      |\n",
        "\n",
        "\n",
        "\n",
        "You can get the data type of any object by using the type() function:\n"
      ],
      "id": "50d5cf96"
    },
    {
      "cell_type": "code",
      "metadata": {
        "id": "a17eb933",
        "outputId": "47314265-e6c8-4560-c861-a48f449866ec",
        "colab": {
          "base_uri": "https://localhost:8080/"
        }
      },
      "source": [
        "x = 20\n",
        "type(x)"
      ],
      "id": "a17eb933",
      "execution_count": 17,
      "outputs": [
        {
          "output_type": "execute_result",
          "data": {
            "text/plain": [
              "int"
            ]
          },
          "metadata": {},
          "execution_count": 17
        }
      ]
    },
    {
      "cell_type": "code",
      "metadata": {
        "id": "f3dfc281",
        "outputId": "cf10ba92-a27f-4d04-daab-ea26b821d308",
        "colab": {
          "base_uri": "https://localhost:8080/"
        }
      },
      "source": [
        "# str type\n",
        "x = \"Hello Essex\" \n",
        "print(type(x))"
      ],
      "id": "f3dfc281",
      "execution_count": 18,
      "outputs": [
        {
          "output_type": "stream",
          "name": "stdout",
          "text": [
            "<class 'str'>\n"
          ]
        }
      ]
    },
    {
      "cell_type": "code",
      "metadata": {
        "id": "7544fc03",
        "outputId": "0a480208-8a93-4340-e369-9f190dafc4a3",
        "colab": {
          "base_uri": "https://localhost:8080/"
        }
      },
      "source": [
        "# int type\n",
        "x = 100\t\n",
        "print(type(x))"
      ],
      "id": "7544fc03",
      "execution_count": 19,
      "outputs": [
        {
          "output_type": "stream",
          "name": "stdout",
          "text": [
            "<class 'int'>\n"
          ]
        }
      ]
    },
    {
      "cell_type": "code",
      "metadata": {
        "id": "2eab98ca",
        "outputId": "e1fb659c-5e99-4651-e7d6-fc4ea0e5b701",
        "colab": {
          "base_uri": "https://localhost:8080/"
        }
      },
      "source": [
        "# float type\n",
        "x = 100.5\t\n",
        "print(type(x))"
      ],
      "id": "2eab98ca",
      "execution_count": 20,
      "outputs": [
        {
          "output_type": "stream",
          "name": "stdout",
          "text": [
            "<class 'float'>\n"
          ]
        }
      ]
    },
    {
      "cell_type": "code",
      "metadata": {
        "id": "0c5b2f2c",
        "outputId": "ac1f640f-f5e1-450e-e48a-15e9c0ffd880",
        "colab": {
          "base_uri": "https://localhost:8080/"
        }
      },
      "source": [
        "# complex type\n",
        "x = 1j\n",
        "print(type(x))\n"
      ],
      "id": "0c5b2f2c",
      "execution_count": 21,
      "outputs": [
        {
          "output_type": "stream",
          "name": "stdout",
          "text": [
            "<class 'complex'>\n"
          ]
        }
      ]
    },
    {
      "cell_type": "code",
      "metadata": {
        "id": "8ad94ec7",
        "outputId": "1fb7808e-dd3d-4d59-b2ec-7a6805bcadb2",
        "colab": {
          "base_uri": "https://localhost:8080/"
        }
      },
      "source": [
        "# list type\n",
        "x = [\"I\", \"Love\", \"Essex\"]\t\n",
        "print(type(x))\n"
      ],
      "id": "8ad94ec7",
      "execution_count": 22,
      "outputs": [
        {
          "output_type": "stream",
          "name": "stdout",
          "text": [
            "<class 'list'>\n"
          ]
        }
      ]
    },
    {
      "cell_type": "code",
      "metadata": {
        "id": "72fbf8af",
        "outputId": "703192fd-9929-4c2a-f8b3-4d7d74869200",
        "colab": {
          "base_uri": "https://localhost:8080/"
        }
      },
      "source": [
        "# tuple \n",
        "x = (\"I\", \"Love\", \"Data Science\")\t\n",
        "print(type(x))\n"
      ],
      "id": "72fbf8af",
      "execution_count": 23,
      "outputs": [
        {
          "output_type": "stream",
          "name": "stdout",
          "text": [
            "<class 'tuple'>\n"
          ]
        }
      ]
    },
    {
      "cell_type": "code",
      "metadata": {
        "id": "ff37bea3",
        "outputId": "4ef53520-8a5e-4d97-d12c-2eb4c0f22d1c",
        "colab": {
          "base_uri": "https://localhost:8080/"
        }
      },
      "source": [
        "# range type\n",
        "x = range(10)\t\n",
        "print(type(x))\n"
      ],
      "id": "ff37bea3",
      "execution_count": 24,
      "outputs": [
        {
          "output_type": "stream",
          "name": "stdout",
          "text": [
            "<class 'range'>\n"
          ]
        }
      ]
    },
    {
      "cell_type": "code",
      "metadata": {
        "id": "418f39a0",
        "outputId": "96c8d4e1-28c7-4553-ef5f-41cdc054dbf2",
        "colab": {
          "base_uri": "https://localhost:8080/"
        }
      },
      "source": [
        "# dictonary type\n",
        "x = {\"name\" : \"Haider\", \"age\" : 36}\t\t\n",
        "print(type(x))\n"
      ],
      "id": "418f39a0",
      "execution_count": 25,
      "outputs": [
        {
          "output_type": "stream",
          "name": "stdout",
          "text": [
            "<class 'dict'>\n"
          ]
        }
      ]
    },
    {
      "cell_type": "code",
      "metadata": {
        "id": "68f4eb7f",
        "outputId": "f3ef3b5a-e7f3-4de8-8fe5-c9a368965f67",
        "colab": {
          "base_uri": "https://localhost:8080/"
        }
      },
      "source": [
        "# set type\n",
        "x = {\"BWM\", \"Audi\", \"Honda\"}\t\n",
        "print(type(x))\n"
      ],
      "id": "68f4eb7f",
      "execution_count": 26,
      "outputs": [
        {
          "output_type": "stream",
          "name": "stdout",
          "text": [
            "<class 'set'>\n"
          ]
        }
      ]
    },
    {
      "cell_type": "code",
      "metadata": {
        "id": "19b7cf60",
        "outputId": "771dce58-954b-4c68-fec9-86d027f4b1bb",
        "colab": {
          "base_uri": "https://localhost:8080/"
        }
      },
      "source": [
        "# frozen set type\n",
        "x = frozenset({\"England\", \"Wale\", \"Scotland\", \"Northern Ireland\"})\n",
        "print(type(x))\n"
      ],
      "id": "19b7cf60",
      "execution_count": 27,
      "outputs": [
        {
          "output_type": "stream",
          "name": "stdout",
          "text": [
            "<class 'frozenset'>\n"
          ]
        }
      ]
    },
    {
      "cell_type": "code",
      "metadata": {
        "id": "cfc1edf8",
        "outputId": "ec2628ce-1fc4-4b25-f11e-162824e5b6c6",
        "colab": {
          "base_uri": "https://localhost:8080/"
        }
      },
      "source": [
        "# bool type\n",
        "x = True\n",
        "print(type(x))"
      ],
      "id": "cfc1edf8",
      "execution_count": 28,
      "outputs": [
        {
          "output_type": "stream",
          "name": "stdout",
          "text": [
            "<class 'bool'>\n"
          ]
        }
      ]
    },
    {
      "cell_type": "code",
      "metadata": {
        "id": "86d6aefc",
        "outputId": "339d07a4-585b-48d4-e81d-cae369851fca"
      },
      "source": [
        "# bytes type\n",
        "x = b\"Hello\"\n",
        "print(type(x))\n"
      ],
      "id": "86d6aefc",
      "execution_count": null,
      "outputs": [
        {
          "name": "stdout",
          "output_type": "stream",
          "text": [
            "<class 'bytes'>\n"
          ]
        }
      ]
    },
    {
      "cell_type": "code",
      "metadata": {
        "id": "e0fd79e6",
        "outputId": "ba827dbe-686a-4b57-b1e9-a032206a621c"
      },
      "source": [
        "# bytearray\n",
        "x = bytearray(3)\n",
        "print(type(x))\n"
      ],
      "id": "e0fd79e6",
      "execution_count": null,
      "outputs": [
        {
          "name": "stdout",
          "output_type": "stream",
          "text": [
            "<class 'bytearray'>\n"
          ]
        }
      ]
    },
    {
      "cell_type": "code",
      "metadata": {
        "id": "60ea99b8",
        "outputId": "4a09a2b2-25fe-4b4b-d2b6-5749a949db61"
      },
      "source": [
        "# memoryview \n",
        "x = memoryview(bytes(5))\n",
        "print(type(x))"
      ],
      "id": "60ea99b8",
      "execution_count": null,
      "outputs": [
        {
          "name": "stdout",
          "output_type": "stream",
          "text": [
            "<class 'memoryview'>\n"
          ]
        }
      ]
    },
    {
      "cell_type": "markdown",
      "metadata": {
        "id": "019b08fd"
      },
      "source": [
        "### Do you know, we can convert or set data types:\n",
        "\n",
        "If you want to specify the data type, you can use the following constructor functions:"
      ],
      "id": "019b08fd"
    },
    {
      "cell_type": "code",
      "metadata": {
        "id": "fe8e2e4f"
      },
      "source": [
        "# Setting x to string\n",
        "x = str(\"Hello Essex\")\n",
        "\n",
        "# setting x to integer\n",
        "x = int(20)\n",
        "\n",
        "# setting x to float\n",
        "x = float(20.5)\t\t\n",
        "\n",
        "# setting x to list\n",
        "x = list((\"apple\", \"banana\", \"cherry\"))"
      ],
      "id": "fe8e2e4f",
      "execution_count": 29,
      "outputs": []
    },
    {
      "cell_type": "markdown",
      "metadata": {
        "id": "078f7039"
      },
      "source": [
        "## Python Conditions\n",
        "\n",
        "Python supports the usual logical conditions from mathematics:\n",
        "\n",
        "|   Type          |  Syntax   | \n",
        "|-----------------|---------- |\n",
        "| Equals :        | `a == b`  | \n",
        "| Not Equals :    | `a != b`  | \n",
        "| Less than :     | \t`a < b` | \n",
        "| Less than or equal to:| \t`a <= b`| \n",
        "| Greater than :  | \t`a > b` | \n",
        "|Greater than or equal to:|  `a >= b`|\n",
        "\n",
        "\n",
        "These conditions can be used in several ways, most commonly in `if` statements and loops. An `if` statement is written by using the `if` keyword.\n",
        "\n",
        "```python\n",
        "x = 5\n",
        "y = 10\n",
        "if y > x:\n",
        "  print(\"b is greater than a\")\n",
        "```\n",
        "\n",
        "## Important point to note: `Indentation`\n",
        "Python relies on indentation (whitespace at the beginning of a line) to define scope in the code. Other programming languages often use curly-brackets for this purpose.\n",
        "\n",
        "```python\n",
        "a = 33\n",
        "b = 200\n",
        "if b > a:\n",
        "print(\"b is greater than a\") # you will get an error\n",
        "```\n",
        "Above code will give an error.\n",
        "\n",
        "### Elif\n",
        "\n",
        "The `elif` keyword is pythons way of saying \"**if the previous conditions were not true, then try this condition**\".\n"
      ],
      "id": "078f7039"
    },
    {
      "cell_type": "code",
      "metadata": {
        "id": "3c7440e0",
        "outputId": "09966f55-0579-4512-8af4-8d3ae238d79b",
        "colab": {
          "base_uri": "https://localhost:8080/"
        }
      },
      "source": [
        "a = 10\n",
        "b = 10\n",
        "if b > a:\n",
        "  print(\"b is greater than a\")\n",
        "elif a == b:\n",
        "  print(\"a and b are equal\")"
      ],
      "id": "3c7440e0",
      "execution_count": 30,
      "outputs": [
        {
          "output_type": "stream",
          "name": "stdout",
          "text": [
            "a and b are equal\n"
          ]
        }
      ]
    },
    {
      "cell_type": "markdown",
      "metadata": {
        "id": "dfedbeaa"
      },
      "source": [
        "### Else\n",
        "The `else` keyword catches anything which isn't caught by the preceding conditions."
      ],
      "id": "dfedbeaa"
    },
    {
      "cell_type": "code",
      "metadata": {
        "id": "cf0967df",
        "outputId": "4f42fb19-3e98-4355-ccc6-ec7df6cd05fc",
        "colab": {
          "base_uri": "https://localhost:8080/"
        }
      },
      "source": [
        "a = 30\n",
        "b = 10\n",
        "if b > a:\n",
        "  print(\"b is greater than a\")\n",
        "elif a == b:\n",
        "  print(\"a and b are equal\")\n",
        "else:\n",
        "  print(\"a is greater than b\")"
      ],
      "id": "cf0967df",
      "execution_count": 31,
      "outputs": [
        {
          "output_type": "stream",
          "name": "stdout",
          "text": [
            "a is greater than b\n"
          ]
        }
      ]
    },
    {
      "cell_type": "markdown",
      "metadata": {
        "id": "f879cfa8"
      },
      "source": [
        "### Using And in IF\n",
        "\n",
        "The `and` keyword is a logical operator, and is used to combine conditional statements:"
      ],
      "id": "f879cfa8"
    },
    {
      "cell_type": "code",
      "metadata": {
        "id": "631b83ad",
        "outputId": "a4c542b6-b7eb-4ae0-a62d-3e884352d453",
        "colab": {
          "base_uri": "https://localhost:8080/"
        }
      },
      "source": [
        "a = 30\n",
        "b = 10\n",
        "c = 70\n",
        "if a > b and c > a:\n",
        "  print(\"Both conditions are True\")"
      ],
      "id": "631b83ad",
      "execution_count": 32,
      "outputs": [
        {
          "output_type": "stream",
          "name": "stdout",
          "text": [
            "Both conditions are True\n"
          ]
        }
      ]
    },
    {
      "cell_type": "markdown",
      "metadata": {
        "id": "9b459ac3"
      },
      "source": [
        "### Nested If\n",
        "\n",
        "You can have `if` statements inside `if` statements, this is called \"nested if\" statements."
      ],
      "id": "9b459ac3"
    },
    {
      "cell_type": "code",
      "metadata": {
        "id": "379483f2",
        "outputId": "2a6691a9-8dc8-4925-dc4e-ee08c4ed262e",
        "colab": {
          "base_uri": "https://localhost:8080/"
        }
      },
      "source": [
        "x = 55\n",
        "\n",
        "if x > 10:\n",
        "  print(\"Above ten,\")\n",
        "  if x > 20:\n",
        "    print(\"and also above 20!\")\n",
        "  else:\n",
        "    print(\"but not above 20.\")"
      ],
      "id": "379483f2",
      "execution_count": 33,
      "outputs": [
        {
          "output_type": "stream",
          "name": "stdout",
          "text": [
            "Above ten,\n",
            "and also above 20!\n"
          ]
        }
      ]
    },
    {
      "cell_type": "markdown",
      "metadata": {
        "id": "d4b2236e"
      },
      "source": [
        "## Python Loops\n",
        "\n",
        "Python has two primitive loop commands:\n",
        "\n",
        "* `while` loops\n",
        "* `for` \n",
        "\n",
        "\n",
        "### While Loop\n",
        "With the `while` loop we can execute a set of statements as long as a condition is true."
      ],
      "id": "d4b2236e"
    },
    {
      "cell_type": "code",
      "metadata": {
        "id": "a7719580",
        "outputId": "1bba29a9-e7dd-4895-dc4e-eb03889071c4"
      },
      "source": [
        "i = 1\n",
        "while i < 6:\n",
        "  print(i)\n",
        "  i += 1"
      ],
      "id": "a7719580",
      "execution_count": null,
      "outputs": [
        {
          "name": "stdout",
          "output_type": "stream",
          "text": [
            "1\n",
            "2\n",
            "3\n",
            "4\n",
            "5\n"
          ]
        }
      ]
    },
    {
      "cell_type": "markdown",
      "metadata": {
        "id": "bbcf0e54"
      },
      "source": [
        "### Break Statement\n",
        "With the break statement we can stop the loop even if the `while` condition is true:"
      ],
      "id": "bbcf0e54"
    },
    {
      "cell_type": "code",
      "metadata": {
        "id": "8d28fa1f",
        "outputId": "59185048-ef08-4186-a9b5-2b7be34867f9"
      },
      "source": [
        "i = 1\n",
        "while i < 6:\n",
        "  print(i)\n",
        "  if i == 3:\n",
        "    break\n",
        "  i += 1"
      ],
      "id": "8d28fa1f",
      "execution_count": null,
      "outputs": [
        {
          "name": "stdout",
          "output_type": "stream",
          "text": [
            "1\n",
            "2\n",
            "3\n"
          ]
        }
      ]
    },
    {
      "cell_type": "markdown",
      "metadata": {
        "id": "a0924b93"
      },
      "source": [
        "### For Loop\n",
        "\n",
        "A `for` loop is used for iterating over a sequence (that is either a list, a tuple, a dictionary, a set, or a string).\n",
        "\n",
        "This is less like the for keyword in other programming languages, and works more like an iterator method as found in other object-orientated programming languages.\n",
        "\n",
        "With the `for` loop we can execute a set of statements, once for each item in a list, tuple, set etc."
      ],
      "id": "a0924b93"
    },
    {
      "cell_type": "code",
      "metadata": {
        "id": "2309a7b7",
        "outputId": "fbb74c8e-fc4f-4928-a39d-8a55e7d66f11"
      },
      "source": [
        "cars = [\"bmw\", \"audi\", \"honda\"]\n",
        "for x in cars:\n",
        "  print(x)"
      ],
      "id": "2309a7b7",
      "execution_count": null,
      "outputs": [
        {
          "name": "stdout",
          "output_type": "stream",
          "text": [
            "bmw\n",
            "audi\n",
            "honda\n"
          ]
        }
      ]
    },
    {
      "cell_type": "markdown",
      "metadata": {
        "id": "6a896169"
      },
      "source": [
        "### Looping Through a String\n",
        "\n",
        "Even strings are iterable objects, they contain a sequence of characters:"
      ],
      "id": "6a896169"
    },
    {
      "cell_type": "code",
      "metadata": {
        "id": "0f72ee43",
        "outputId": "d166923a-ae1b-428d-c457-cebd0627aaea"
      },
      "source": [
        "for x in \"bmw\":\n",
        "  print(x)"
      ],
      "id": "0f72ee43",
      "execution_count": null,
      "outputs": [
        {
          "name": "stdout",
          "output_type": "stream",
          "text": [
            "b\n",
            "m\n",
            "w\n"
          ]
        }
      ]
    },
    {
      "cell_type": "markdown",
      "metadata": {
        "id": "cb8c65bf"
      },
      "source": [
        "### Using break in for loop\n",
        "\n",
        "With the `break` statement we can stop the loop before it has looped through all the items:"
      ],
      "id": "cb8c65bf"
    },
    {
      "cell_type": "code",
      "metadata": {
        "id": "1adeb8ea",
        "outputId": "d463cdf1-4105-43e1-c37f-0ac8176bc1a5"
      },
      "source": [
        "cars = [\"bmw\", \"audi\", \"honda\"]\n",
        "for x in cars:\n",
        "  print(x)\n",
        "  if x == \"audi\":\n",
        "    break"
      ],
      "id": "1adeb8ea",
      "execution_count": null,
      "outputs": [
        {
          "name": "stdout",
          "output_type": "stream",
          "text": [
            "bmw\n",
            "audi\n"
          ]
        }
      ]
    },
    {
      "cell_type": "markdown",
      "metadata": {
        "id": "56476275"
      },
      "source": [
        "### The range() Function\n",
        "\n",
        "To loop through a set of code a specified number of times, we can use the `range()` function,\n",
        "The `range()` function returns a sequence of numbers, starting from 0 by default, and increments by 1 (by default), and ends at a specified number."
      ],
      "id": "56476275"
    },
    {
      "cell_type": "code",
      "metadata": {
        "id": "2f3d83d6",
        "outputId": "e4fc753a-2ccf-4fb3-8223-d9cd8806e3c0"
      },
      "source": [
        "for x in range(10):\n",
        "  print(x)"
      ],
      "id": "2f3d83d6",
      "execution_count": null,
      "outputs": [
        {
          "name": "stdout",
          "output_type": "stream",
          "text": [
            "0\n",
            "1\n",
            "2\n",
            "3\n",
            "4\n",
            "5\n",
            "6\n",
            "7\n",
            "8\n",
            "9\n"
          ]
        }
      ]
    },
    {
      "cell_type": "code",
      "metadata": {
        "id": "471f2383",
        "outputId": "c80e12d1-4a8e-4bc6-b7d4-a26ed0e5b95b"
      },
      "source": [
        "for x in range(4, 10):\n",
        "  print(x)"
      ],
      "id": "471f2383",
      "execution_count": null,
      "outputs": [
        {
          "name": "stdout",
          "output_type": "stream",
          "text": [
            "4\n",
            "5\n",
            "6\n",
            "7\n",
            "8\n",
            "9\n"
          ]
        }
      ]
    },
    {
      "cell_type": "markdown",
      "metadata": {
        "id": "62fb8e38"
      },
      "source": [
        "## Functions in Python\n",
        "\n",
        "A function is a block of code which only runs when it is called. You can pass data, known as parameters, into a function. A function can return data as a result.\n",
        "\n",
        "### Creating a Function\n",
        "\n",
        "In Python a function is defined using the `def` keyword:"
      ],
      "id": "62fb8e38"
    },
    {
      "cell_type": "code",
      "metadata": {
        "id": "34bc5ecb"
      },
      "source": [
        "def my_function():\n",
        "  print(\"Hello, this is my first function\")"
      ],
      "id": "34bc5ecb",
      "execution_count": 34,
      "outputs": []
    },
    {
      "cell_type": "markdown",
      "metadata": {
        "id": "38e7320d"
      },
      "source": [
        "Calling a function, we have just created:"
      ],
      "id": "38e7320d"
    },
    {
      "cell_type": "code",
      "metadata": {
        "id": "4dffaec3",
        "outputId": "5ef67fbd-0e4f-4175-b9f4-28b78305a4fd",
        "colab": {
          "base_uri": "https://localhost:8080/"
        }
      },
      "source": [
        "my_function()"
      ],
      "id": "4dffaec3",
      "execution_count": 35,
      "outputs": [
        {
          "output_type": "stream",
          "name": "stdout",
          "text": [
            "Hello, this is my first function\n"
          ]
        }
      ]
    },
    {
      "cell_type": "markdown",
      "metadata": {
        "id": "239ae4f3"
      },
      "source": [
        "### Arguments\n",
        "Information can be passed into functions as arguments. Arguments are specified after the function name, inside the parentheses. You can add as many arguments as you want, just separate them with a comma.\n",
        "\n",
        "The following example has a function with one argument (fname). When the function is called, we pass along a first name, which is used inside the function to print the full name:"
      ],
      "id": "239ae4f3"
    },
    {
      "cell_type": "code",
      "metadata": {
        "id": "815ad622",
        "outputId": "c5123e46-6787-454a-e0d3-cfccde6aee88",
        "colab": {
          "base_uri": "https://localhost:8080/"
        }
      },
      "source": [
        "def my_function(car_model):\n",
        "  print(\"BMW \" + car_model)\n",
        "\n",
        "my_function(\"520d\")\n",
        "my_function(\"320i\")\n",
        "my_function(\"320d\")"
      ],
      "id": "815ad622",
      "execution_count": 36,
      "outputs": [
        {
          "output_type": "stream",
          "name": "stdout",
          "text": [
            "BMW 520d\n",
            "BMW 320i\n",
            "BMW 320d\n"
          ]
        }
      ]
    },
    {
      "cell_type": "markdown",
      "metadata": {
        "id": "24c1d9a9"
      },
      "source": [
        "### Parameters or Arguments?\n",
        "\n",
        "The terms \"parameter\" and \"argument\" can be used for the same thing: information that are passed into a function. But, there is a difference and important to note that:\n",
        "\n",
        "* A \"**parameter**\" is the variable listed inside the parentheses in the function definition.\n",
        "\n",
        "* An \"**argument**\" is the value that is sent to the function when it is called."
      ],
      "id": "24c1d9a9"
    },
    {
      "cell_type": "markdown",
      "metadata": {
        "id": "c9e819fb"
      },
      "source": [
        "### Number of Arguments\n",
        "By default, a function must be called with the correct number of arguments. Meaning that if your function expects 2 arguments, you have to call the function with 2 arguments, not more, and not less."
      ],
      "id": "c9e819fb"
    },
    {
      "cell_type": "code",
      "metadata": {
        "id": "0d6b2b15",
        "outputId": "f8307caf-9c4a-4676-d9ba-ad7c9a9d29ad"
      },
      "source": [
        "def my_function(car_name, car_model):\n",
        "  print(car_name + \" \" + car_model)\n",
        "\n",
        "my_function(\"Tesla\", \"Model X\")"
      ],
      "id": "0d6b2b15",
      "execution_count": null,
      "outputs": [
        {
          "name": "stdout",
          "output_type": "stream",
          "text": [
            "Tesla Model X\n"
          ]
        }
      ]
    },
    {
      "cell_type": "code",
      "metadata": {
        "id": "8a5b6c21",
        "outputId": "c8f47715-b819-47c9-9eaa-362f0e1262e5"
      },
      "source": [
        "# If you try to call the function with 1 or 3 arguments, you will get an error:\n",
        "my_function(\"Tesla\")"
      ],
      "id": "8a5b6c21",
      "execution_count": null,
      "outputs": [
        {
          "ename": "TypeError",
          "evalue": "my_function() missing 1 required positional argument: 'car_model'",
          "output_type": "error",
          "traceback": [
            "\u001b[0;31m---------------------------------------------------------------------------\u001b[0m",
            "\u001b[0;31mTypeError\u001b[0m                                 Traceback (most recent call last)",
            "\u001b[0;32m<ipython-input-48-e8496ffb8cdf>\u001b[0m in \u001b[0;36m<module>\u001b[0;34m\u001b[0m\n\u001b[1;32m      1\u001b[0m \u001b[0;31m# If you try to call the function with 1 or 3 arguments, you will get an error:\u001b[0m\u001b[0;34m\u001b[0m\u001b[0;34m\u001b[0m\u001b[0;34m\u001b[0m\u001b[0m\n\u001b[0;32m----> 2\u001b[0;31m \u001b[0mmy_function\u001b[0m\u001b[0;34m(\u001b[0m\u001b[0;34m\"Tesla\"\u001b[0m\u001b[0;34m)\u001b[0m\u001b[0;34m\u001b[0m\u001b[0;34m\u001b[0m\u001b[0m\n\u001b[0m",
            "\u001b[0;31mTypeError\u001b[0m: my_function() missing 1 required positional argument: 'car_model'"
          ]
        }
      ]
    },
    {
      "cell_type": "markdown",
      "metadata": {
        "id": "79c9aeeb"
      },
      "source": [
        "### Arbitrary Arguments, *args\n",
        "If you do not know how many arguments that will be passed into your function, add a * before the parameter name in the function definition.\n",
        "\n",
        "This way the function will receive a tuple of arguments, and can access the items accordingly:"
      ],
      "id": "79c9aeeb"
    },
    {
      "cell_type": "code",
      "metadata": {
        "id": "f43a863a",
        "outputId": "a7da17f9-c2cd-4881-b4a1-45e3f2264062"
      },
      "source": [
        "def my_function(*cars):\n",
        "  print(\"In BMW, I like \" + cars[2])\n",
        "\n",
        "my_function(\"X7\", \"X3\", \"X1\")"
      ],
      "id": "f43a863a",
      "execution_count": null,
      "outputs": [
        {
          "name": "stdout",
          "output_type": "stream",
          "text": [
            "In BMW, I like X1\n"
          ]
        }
      ]
    },
    {
      "cell_type": "markdown",
      "metadata": {
        "id": "e4238ea1"
      },
      "source": [
        "### Default Parameter Value\n",
        "The following example shows how to use a default parameter value. If we call the function without argument, it uses the default value:"
      ],
      "id": "e4238ea1"
    },
    {
      "cell_type": "code",
      "metadata": {
        "id": "bb4f35c5",
        "outputId": "9cd485ba-0077-4503-cdd2-9152a4141350"
      },
      "source": [
        "def my_function(car = \"Tesla\"):\n",
        "  print(\"My favroite car is \" + car)\n",
        "\n",
        "my_function(\"BMW\")\n",
        "my_function(\"Audi\")\n",
        "my_function()\n",
        "my_function(\"Honda\")"
      ],
      "id": "bb4f35c5",
      "execution_count": null,
      "outputs": [
        {
          "name": "stdout",
          "output_type": "stream",
          "text": [
            "My favroite car is BMW\n",
            "My favroite car is Audi\n",
            "My favroite car is Tesla\n",
            "My favroite car is Honda\n"
          ]
        }
      ]
    },
    {
      "cell_type": "markdown",
      "metadata": {
        "id": "a4878052"
      },
      "source": [
        "### Passing a List as an Argument\n",
        "You can send any data types of argument to a function (string, number, list, dictionary etc.), and it will be treated as the same data type inside the function.\n",
        "\n",
        "E.g. if you send a List as an argument, it will still be a List when it reaches the function:"
      ],
      "id": "a4878052"
    },
    {
      "cell_type": "code",
      "metadata": {
        "id": "87440342",
        "outputId": "67eef5c7-bda4-411c-fa28-e6f86ba83cba",
        "colab": {
          "base_uri": "https://localhost:8080/"
        }
      },
      "source": [
        "def my_function(cars):\n",
        "  for x in cars:\n",
        "    print(x)\n",
        "\n",
        "fruits = [\"bmw\", \"audi\", \"honda\"]\n",
        "\n",
        "my_function(fruits)"
      ],
      "id": "87440342",
      "execution_count": 37,
      "outputs": [
        {
          "output_type": "stream",
          "name": "stdout",
          "text": [
            "bmw\n",
            "audi\n",
            "honda\n"
          ]
        }
      ]
    },
    {
      "cell_type": "markdown",
      "metadata": {
        "id": "36382d08"
      },
      "source": [
        "### Return Values\n",
        "To let a function return a value, use the return statement:"
      ],
      "id": "36382d08"
    },
    {
      "cell_type": "code",
      "metadata": {
        "id": "acceb61a",
        "outputId": "e98b8274-536d-4989-a1b2-12c9d9ecc41e"
      },
      "source": [
        "def my_function(x):\n",
        "  return 5 * x\n",
        "\n",
        "print(my_function(10))\n",
        "print(my_function(20))\n",
        "print(my_function(30))"
      ],
      "id": "acceb61a",
      "execution_count": null,
      "outputs": [
        {
          "name": "stdout",
          "output_type": "stream",
          "text": [
            "50\n",
            "100\n",
            "150\n"
          ]
        }
      ]
    },
    {
      "cell_type": "code",
      "metadata": {
        "id": "f1098bb0"
      },
      "source": [],
      "id": "f1098bb0",
      "execution_count": null,
      "outputs": []
    }
  ]
}